{
  "nbformat": 4,
  "nbformat_minor": 0,
  "metadata": {
    "colab": {
      "provenance": []
    },
    "kernelspec": {
      "name": "python3",
      "display_name": "Python 3"
    },
    "language_info": {
      "name": "python"
    }
  },
  "cells": [
    {
      "cell_type": "code",
      "execution_count": 1,
      "metadata": {
        "colab": {
          "base_uri": "https://localhost:8080/"
        },
        "id": "2L0SFe9il5wo",
        "outputId": "8623e0d3-fc32-4a6e-d9fc-d112cf1a5642"
      },
      "outputs": [
        {
          "output_type": "stream",
          "name": "stdout",
          "text": [
            "Collecting openpyxl==3.0.10\n",
            "  Downloading openpyxl-3.0.10-py2.py3-none-any.whl.metadata (2.4 kB)\n",
            "Requirement already satisfied: et-xmlfile in /usr/local/lib/python3.11/dist-packages (from openpyxl==3.0.10) (2.0.0)\n",
            "Downloading openpyxl-3.0.10-py2.py3-none-any.whl (242 kB)\n",
            "\u001b[2K   \u001b[90m━━━━━━━━━━━━━━━━━━━━━━━━━━━━━━━━━━━━━━━━\u001b[0m \u001b[32m242.1/242.1 kB\u001b[0m \u001b[31m3.2 MB/s\u001b[0m eta \u001b[36m0:00:00\u001b[0m\n",
            "\u001b[?25hInstalling collected packages: openpyxl\n",
            "  Attempting uninstall: openpyxl\n",
            "    Found existing installation: openpyxl 3.1.5\n",
            "    Uninstalling openpyxl-3.1.5:\n",
            "      Successfully uninstalled openpyxl-3.1.5\n",
            "Successfully installed openpyxl-3.0.10\n"
          ]
        }
      ],
      "source": [
        "pip install openpyxl==3.0.10"
      ]
    },
    {
      "cell_type": "code",
      "source": [
        "!rm /etc/localtime\n",
        "!ln -s /usr/share/zoneinfo/Asia/Tokyo /etc/localtime\n",
        "!date"
      ],
      "metadata": {
        "colab": {
          "base_uri": "https://localhost:8080/"
        },
        "id": "TjA2Adm-p8Y3",
        "outputId": "f40b4aa8-3b1a-4cbe-eeae-8acba2130808"
      },
      "execution_count": 2,
      "outputs": [
        {
          "output_type": "stream",
          "name": "stdout",
          "text": [
            "Sun Feb 23 09:09:28 PM JST 2025\n"
          ]
        }
      ]
    },
    {
      "cell_type": "code",
      "source": [
        "import openpyxl\n",
        "import time\n",
        "\n",
        "workbook = openpyxl.Workbook()\n",
        "\n",
        "\n",
        "ws = workbook.active\n",
        "\n",
        "ws['B2'] = '請求書'\n",
        "\n",
        "ws['B4'] = '株式会社ABC'\n",
        "ws.merge_cells('B4:C4')\n",
        "\n",
        "ws['B5'] = '〒101-0022 東京都千代田区神田練塀町300'\n",
        "ws.merge_cells('B5:E5')\n",
        "ws.column_dimensions['E'].width = 12\n",
        "\n",
        "ws['B6'] = 'TEL:03-1234-5678 FAX:03-1234-5678'\n",
        "ws.merge_cells('B6:E6')\n",
        "\n",
        "ws['B7'] = '担当者名：鈴木一郎 様'\n",
        "ws.merge_cells('B7:D7')\n",
        "\n",
        "ws['F4'] = \"No.\"\n",
        "ws['G4'] = '0001'\n",
        "\n",
        "ws['F5'] = '日付'\n",
        "ws['G5'] = time.strftime('%Y/%m/%d',time.localtime())\n",
        "ws.merge_cells('G5:H5')\n",
        "\n",
        "data = [[\"商品名\",\"数量\",\"単価\",\"金額\"],[\"商品A\",2,10000,20000],[\"商品B\",1,15000,15000]]\n",
        "\n",
        "start_row = 10\n",
        "start_cell = 2\n",
        "\n",
        "for i, row in enumerate(data):\n",
        "    for j, value in enumerate(row):\n",
        "        ws.cell(row=start_row+i, column=start_cell+j, value=value)\n",
        "\n",
        "\n",
        "ws['E13'] = \"=E11+E12\"\n",
        "\n",
        "ws['B15'] = '小計'\n",
        "ws['E15'] = 35000\n",
        "ws['B16'] = '消費税'\n",
        "ws['E16'] = 3500\n",
        "ws['B17'] = '合計'\n",
        "ws['E17'] = 38500\n",
        "\n",
        "workbook.save('請求書_20250223.xlsx')"
      ],
      "metadata": {
        "id": "uCrENVX9mNGo"
      },
      "execution_count": 3,
      "outputs": []
    }
  ]
}